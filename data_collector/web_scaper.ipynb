{
 "cells": [
  {
   "cell_type": "code",
   "execution_count": null,
   "id": "f82ff3ac-7e55-4912-82bf-be28b3e61b20",
   "metadata": {},
   "outputs": [],
   "source": [
    "from bs4 import BeautifulSoup\n",
    "import requests\n",
    "import pandas as pd\n",
    "import numpy as np"
   ]
  },
  {
   "cell_type": "code",
   "execution_count": null,
   "id": "8d3b356f-125f-482c-ac80-677531f9cceb",
   "metadata": {},
   "outputs": [
    {
     "name": "stdout",
     "output_type": "stream",
     "text": [
      "2010   1\n",
      "2010   2\n",
      "2010   3\n",
      "2010   4\n",
      "2010   5\n",
      "2010   6\n",
      "2010   7\n",
      "2010   8\n",
      "2010   9\n",
      "2010   10\n",
      "2010   11\n",
      "2010   12\n",
      "2011   1\n",
      "2011   2\n",
      "2011   3\n",
      "2011   4\n",
      "2011   5\n",
      "2011   6\n",
      "2011   7\n",
      "2011   8\n",
      "2011   9\n",
      "2011   10\n",
      "2011   11\n",
      "2011   12\n",
      "2012   1\n",
      "2012   2\n",
      "2012   3\n",
      "2012   4\n",
      "2012   5\n"
     ]
    }
   ],
   "source": [
    "year_start = 2010\n",
    "mounth_start = 1\n",
    "\n",
    "year_stop = 2017\n",
    "mounth_stop = 12\n",
    "\n",
    "data_dict = {\"title\" : [] ,\n",
    "\"link\" : [] ,\n",
    "\"date\" : [],\n",
    "\"author\" : [],\n",
    "\"text\" : [],\n",
    "\"comment_rbloggers\" : [] \n",
    "}\n",
    "\n",
    "years = []\n",
    "mounths = []\n",
    "for year in range(year_start, year_stop + 1):\n",
    "    years.append(year)\n",
    "    mounths_year = []\n",
    "    if year_stop == year_start :\n",
    "        for mounth in range(mounth_start, mounth_stop + 1):\n",
    "            mounths_year.append(mounth)\n",
    "    else :\n",
    "        if year == year_stop :\n",
    "            for mounth in range(1, mounth_stop + 1):\n",
    "                mounths_year.append(mounth)\n",
    "        else:\n",
    "            for mounth in range(mounth_start, 12 + 1):\n",
    "                mounths_year.append(mounth)\n",
    "    mounths.append(mounths_year)\n",
    "\n",
    "try :\n",
    "    for year, mounths_year in zip(years , mounths):\n",
    "        for mounth in mounths_year :\n",
    "            print(year, \" \", mounth)\n",
    "            source_n = requests.get(f\"https://www.r-bloggers.com/{year}/{mounth}/\").text \n",
    "            soup_n = BeautifulSoup(source_n, 'lxml')\n",
    "            pages_idx = soup_n.find_all(\"a\" ,class_ =\"page-numbers\")\n",
    "            if len(pages_idx) == 0:\n",
    "                break\n",
    "            last_page_n = int(pages_idx[-2].text)\n",
    "\n",
    "            for num_page in range(1, last_page_n + 1):\n",
    "\n",
    "                source = requests.get(f\"https://www.r-bloggers.com/{year}/{mounth}/page/{num_page}/\").text \n",
    "                soup = BeautifulSoup(source, 'lxml')\n",
    "                articles = soup.find_all(\"article\")\n",
    "                for idx_article in range(len(articles)):\n",
    "                    article = articles[idx_article]\n",
    "                    data_dict[\"author\"].append(article.find(\"span\", class_ = \"vcard author\").text)\n",
    "                    data_dict[\"title\"].append(article.find(\"h3\", class_ = \"loop-title\").text)\n",
    "                    data_dict[\"date\"].append(article.find(\"p\", class_ = \"meta\").text.split(\" |\")[0])\n",
    "                    link = str(article.find(\"h3\", class_ = \"loop-title\").find(\"a\")).split(\"href=\")[1].split(' rel')[0][1:-1]\n",
    "                    data_dict[\"link\"].append(link)\n",
    "                    source_link = requests.get(link).text \n",
    "                    soup_link = BeautifulSoup(source_link, 'lxml')\n",
    "                    text = \"\"\n",
    "                    for i, para in enumerate(soup_link.find_all(\"p\")):\n",
    "                        if i == 0 :\n",
    "                            try :\n",
    "                                data_dict[\"comment_rbloggers\"].append(para.get_text().split(\"|\")[1])\n",
    "                            except :\n",
    "                                data_dict[\"comment_rbloggers\"].append(np.NaN)\n",
    "                        if i in (0,1, len(soup_link.find_all(\"p\")) - 1) :\n",
    "                            pass\n",
    "                        else:\n",
    "                            text = text + \" \" + para.get_text()\n",
    "                    data_dict[\"text\"].append(text[1:])\n",
    "                    \n",
    "        df = pd.DataFrame(data_dict, columns = data_dict.keys())\n",
    "        df.to_csv(\"data_rbloggers_{year}.csv\", sep = \"\\t\", index = False)\n",
    "\n",
    "    df = pd.DataFrame(data_dict, columns = data_dict.keys())\n",
    "    df.to_csv(\"data_rbloggers_2010-2017.csv\", sep = \"\\t\", index = False)\n",
    "except Exception as e:\n",
    "    print(e)\n",
    "    df = pd.DataFrame(data_dict, columns = data_dict.keys())\n",
    "    df.to_csv(\"data_rbloggers_2010-2017.csv\", sep = \"\\t\", index = False)"
   ]
  },
  {
   "cell_type": "code",
   "execution_count": null,
   "id": "258969b4-e534-4f98-b31b-04f5d26875c2",
   "metadata": {},
   "outputs": [],
   "source": [
    "print(\"ok\")"
   ]
  },
  {
   "cell_type": "code",
   "execution_count": 355,
   "id": "8901e83e-5fcb-47d4-b1f4-a959e8faf1dc",
   "metadata": {},
   "outputs": [],
   "source": [
    "df.to_csv(\"data_rbloggers_final.csv\", sep = \"\\t\", index = False)"
   ]
  },
  {
   "cell_type": "code",
   "execution_count": 314,
   "id": "a2427f44-f05d-4a73-b3e8-96b541784f3e",
   "metadata": {},
   "outputs": [],
   "source": [
    "df = pd.read_csv(\"data_rbloggers.csv\", sep = \"\\t\")"
   ]
  },
  {
   "cell_type": "code",
   "execution_count": 334,
   "id": "6e2d4a4a-5047-41af-acfc-64cb25ede533",
   "metadata": {},
   "outputs": [
    {
     "data": {
      "text/html": [
       "<div>\n",
       "<style scoped>\n",
       "    .dataframe tbody tr th:only-of-type {\n",
       "        vertical-align: middle;\n",
       "    }\n",
       "\n",
       "    .dataframe tbody tr th {\n",
       "        vertical-align: top;\n",
       "    }\n",
       "\n",
       "    .dataframe thead th {\n",
       "        text-align: right;\n",
       "    }\n",
       "</style>\n",
       "<table border=\"1\" class=\"dataframe\">\n",
       "  <thead>\n",
       "    <tr style=\"text-align: right;\">\n",
       "      <th></th>\n",
       "      <th>title</th>\n",
       "      <th>link</th>\n",
       "      <th>date</th>\n",
       "      <th>author</th>\n",
       "      <th>text</th>\n",
       "      <th>comment_rbloggers</th>\n",
       "    </tr>\n",
       "  </thead>\n",
       "  <tbody>\n",
       "    <tr>\n",
       "      <th>11639</th>\n",
       "      <td>Convolutional Neural Networks</td>\n",
       "      <td>https://www.r-bloggers.com/2021/10/convolution...</td>\n",
       "      <td>October 1, 2021</td>\n",
       "      <td>finnstats</td>\n",
       "      <td>Convolutional neural networks, Let’s look at a...</td>\n",
       "      <td>0 Comments</td>\n",
       "    </tr>\n",
       "    <tr>\n",
       "      <th>11640</th>\n",
       "      <td>Using Java functions from JAR file in R using ...</td>\n",
       "      <td>https://www.r-bloggers.com/2021/10/using-java-...</td>\n",
       "      <td>October 1, 2021</td>\n",
       "      <td>sang-heon lee</td>\n",
       "      <td>NaN</td>\n",
       "      <td>0 Comments</td>\n",
       "    </tr>\n",
       "    <tr>\n",
       "      <th>11641</th>\n",
       "      <td>September 2021 ISC Call for Proposals – Now Open!</td>\n",
       "      <td>https://www.r-bloggers.com/2021/10/september-2...</td>\n",
       "      <td>October 1, 2021</td>\n",
       "      <td>R Consortium</td>\n",
       "      <td>The deadline for submitting proposals is Octob...</td>\n",
       "      <td>0 Comments</td>\n",
       "    </tr>\n",
       "    <tr>\n",
       "      <th>11642</th>\n",
       "      <td>Crash Course in R Model Deployment with Docker...</td>\n",
       "      <td>https://www.r-bloggers.com/2021/10/crash-cours...</td>\n",
       "      <td>October 1, 2021</td>\n",
       "      <td>Gary Hutson</td>\n",
       "      <td>I have put together a complete guide to model ...</td>\n",
       "      <td>0 Comments</td>\n",
       "    </tr>\n",
       "    <tr>\n",
       "      <th>11643</th>\n",
       "      <td>OASIS UI technical updates</td>\n",
       "      <td>https://www.r-bloggers.com/2021/10/oasis-ui-te...</td>\n",
       "      <td>October 1, 2021</td>\n",
       "      <td>Mirai Solutions</td>\n",
       "      <td>Mirai Solutions stays engaged in the developme...</td>\n",
       "      <td>0 Comments</td>\n",
       "    </tr>\n",
       "  </tbody>\n",
       "</table>\n",
       "</div>"
      ],
      "text/plain": [
       "                                                   title  \\\n",
       "11639                      Convolutional Neural Networks   \n",
       "11640  Using Java functions from JAR file in R using ...   \n",
       "11641  September 2021 ISC Call for Proposals – Now Open!   \n",
       "11642  Crash Course in R Model Deployment with Docker...   \n",
       "11643                         OASIS UI technical updates   \n",
       "\n",
       "                                                    link             date  \\\n",
       "11639  https://www.r-bloggers.com/2021/10/convolution...  October 1, 2021   \n",
       "11640  https://www.r-bloggers.com/2021/10/using-java-...  October 1, 2021   \n",
       "11641  https://www.r-bloggers.com/2021/10/september-2...  October 1, 2021   \n",
       "11642  https://www.r-bloggers.com/2021/10/crash-cours...  October 1, 2021   \n",
       "11643  https://www.r-bloggers.com/2021/10/oasis-ui-te...  October 1, 2021   \n",
       "\n",
       "                author                                               text  \\\n",
       "11639        finnstats  Convolutional neural networks, Let’s look at a...   \n",
       "11640    sang-heon lee                                                NaN   \n",
       "11641     R Consortium  The deadline for submitting proposals is Octob...   \n",
       "11642      Gary Hutson  I have put together a complete guide to model ...   \n",
       "11643  Mirai Solutions  Mirai Solutions stays engaged in the developme...   \n",
       "\n",
       "      comment_rbloggers  \n",
       "11639        0 Comments  \n",
       "11640        0 Comments  \n",
       "11641        0 Comments  \n",
       "11642        0 Comments  \n",
       "11643        0 Comments  "
      ]
     },
     "execution_count": 334,
     "metadata": {},
     "output_type": "execute_result"
    }
   ],
   "source": [
    "df.tail()"
   ]
  },
  {
   "cell_type": "code",
   "execution_count": null,
   "id": "973514dd-9bb0-4ca2-9e40-8d068cf2dcd1",
   "metadata": {},
   "outputs": [],
   "source": []
  },
  {
   "cell_type": "code",
   "execution_count": 332,
   "id": "93ec600a-f191-4652-8898-cef26ab9fc24",
   "metadata": {},
   "outputs": [
    {
     "data": {
      "text/plain": [
       "'https://www.r-bloggers.com/2018/01/easily-converting-strings-to-times-and-dates-in-r-with-fliptime/'"
      ]
     },
     "execution_count": 332,
     "metadata": {},
     "output_type": "execute_result"
    }
   ],
   "source": [
    "df.link[0]"
   ]
  },
  {
   "cell_type": "code",
   "execution_count": 333,
   "id": "2c446237-de6d-4445-9fcc-75c0f0ad85c9",
   "metadata": {},
   "outputs": [
    {
     "data": {
      "text/plain": [
       "'Easily Converting Strings to Times and Dates in R with flipTime'"
      ]
     },
     "execution_count": 333,
     "metadata": {},
     "output_type": "execute_result"
    }
   ],
   "source": [
    "df.title[0]"
   ]
  },
  {
   "cell_type": "code",
   "execution_count": 320,
   "id": "824a4389-663c-42e3-89e7-583a69d3e64e",
   "metadata": {},
   "outputs": [
    {
     "data": {
      "text/plain": [
       "rOpenSci - open tools for open science    250\n",
       "Thinking inside the box                   234\n",
       "R Views                                   222\n",
       "John Mount                                210\n",
       "xi'an                                     192\n",
       "                                         ... \n",
       "Jason Hoffmeier                             1\n",
       "Lou Bajuk, Carl Howe                        1\n",
       "Piotr Fic                                   1\n",
       "Adam Gabriel Dobrakowski                    1\n",
       "Verena                                      1\n",
       "Name: author, Length: 1256, dtype: int64"
      ]
     },
     "execution_count": 320,
     "metadata": {},
     "output_type": "execute_result"
    }
   ],
   "source": [
    "df.author.value_counts()"
   ]
  },
  {
   "cell_type": "code",
   "execution_count": 324,
   "id": "0f04fcdc-13b2-4ce1-abf1-377cdadebe61",
   "metadata": {},
   "outputs": [
    {
     "data": {
      "text/plain": [
       "'Analysis of Trump’s State of the Union Speech, with R'"
      ]
     },
     "execution_count": 324,
     "metadata": {},
     "output_type": "execute_result"
    }
   ],
   "source": [
    "df.title[10]"
   ]
  },
  {
   "cell_type": "code",
   "execution_count": 349,
   "id": "0713c61e-825e-47aa-9b5c-3032c7b30153",
   "metadata": {},
   "outputs": [
    {
     "data": {
      "text/plain": [
       "'Hi all, so given our logo here at Jumping Rivers is a set of lines designed to look like a Gaussian Process, we thought it would be a neat idea to recreate this image in R. To do so we’re going to need a couple packages. We do the usual install.packages() dance (remember this step can be performed in parallel) We’re also going to need the data containing the points for the lines and which set of points belongs to which line. There is a Gist available to download via Jumping Rivers. To read in the csv file we’re going to use the raw data link. The data set contains three columns, x, y and type, where type indicates the line. Let’s start with a standard geom_line()  The graph shares similarities with our logo, but is too discrete. To smooth the curve, we’ll use a function from the ggalt package  The function geom_xspline() is the X-spline version of geom_line(), drawing a curve relative to the observations.\\nThe parameterspline_shape = -0.3 controls the shape of the spline relative to the observations. This can be a number between -1 & 1. Basically, -1 = bumpy lines, 1 = flat lines. Next we’ll change the widths of the lines  The scale_size_manual() function enables us to control the line widths. Finally, we remove the background  The functiontheme_void() does what it says on the tin it gives us a theme completely void of everything. Bar the lines of course. That’s all for now. Thanks for reading! 🙂  '"
      ]
     },
     "execution_count": 349,
     "metadata": {},
     "output_type": "execute_result"
    }
   ],
   "source": [
    "df.text[7]"
   ]
  },
  {
   "cell_type": "code",
   "execution_count": 352,
   "id": "2e3faf99-811a-4ab8-bfd1-c1470bc278bd",
   "metadata": {},
   "outputs": [],
   "source": [
    "df['text'] = df.text.apply(lambda x : str(x).replace(\"\\n\", \" \"))"
   ]
  },
  {
   "cell_type": "code",
   "execution_count": 354,
   "id": "0b455443-96d3-4aaa-bc24-e67d16208b8b",
   "metadata": {},
   "outputs": [
    {
     "data": {
      "text/html": [
       "<div>\n",
       "<style scoped>\n",
       "    .dataframe tbody tr th:only-of-type {\n",
       "        vertical-align: middle;\n",
       "    }\n",
       "\n",
       "    .dataframe tbody tr th {\n",
       "        vertical-align: top;\n",
       "    }\n",
       "\n",
       "    .dataframe thead th {\n",
       "        text-align: right;\n",
       "    }\n",
       "</style>\n",
       "<table border=\"1\" class=\"dataframe\">\n",
       "  <thead>\n",
       "    <tr style=\"text-align: right;\">\n",
       "      <th></th>\n",
       "      <th>title</th>\n",
       "      <th>link</th>\n",
       "      <th>date</th>\n",
       "      <th>author</th>\n",
       "      <th>text</th>\n",
       "      <th>comment_rbloggers</th>\n",
       "    </tr>\n",
       "  </thead>\n",
       "  <tbody>\n",
       "    <tr>\n",
       "      <th>0</th>\n",
       "      <td>Easily Converting Strings to Times and Dates i...</td>\n",
       "      <td>https://www.r-bloggers.com/2018/01/easily-conv...</td>\n",
       "      <td>January 31, 2018</td>\n",
       "      <td>Mathew McLean</td>\n",
       "      <td>Date conversion in R can be a real pain. Howev...</td>\n",
       "      <td>0 Comments</td>\n",
       "    </tr>\n",
       "    <tr>\n",
       "      <th>1</th>\n",
       "      <td>The importance of context</td>\n",
       "      <td>https://www.r-bloggers.com/2018/01/the-importa...</td>\n",
       "      <td>January 31, 2018</td>\n",
       "      <td>Dr. Michael Green</td>\n",
       "      <td>When we do modeling it’s of utmost importance ...</td>\n",
       "      <td>0 Comments</td>\n",
       "    </tr>\n",
       "    <tr>\n",
       "      <th>2</th>\n",
       "      <td>PCA in a tidy(verse) framework</td>\n",
       "      <td>https://www.r-bloggers.com/2018/01/pca-in-a-ti...</td>\n",
       "      <td>January 31, 2018</td>\n",
       "      <td>Rstats on goonR blog</td>\n",
       "      <td>The other day, a question was posted on RStudi...</td>\n",
       "      <td>0 Comments</td>\n",
       "    </tr>\n",
       "    <tr>\n",
       "      <th>3</th>\n",
       "      <td>The importance of context</td>\n",
       "      <td>https://www.r-bloggers.com/2018/01/the-importa...</td>\n",
       "      <td>January 31, 2018</td>\n",
       "      <td>Dr. Michael Green</td>\n",
       "      <td>When we do modeling it’s of utmost importance ...</td>\n",
       "      <td>0 Comments</td>\n",
       "    </tr>\n",
       "    <tr>\n",
       "      <th>4</th>\n",
       "      <td>Our Logo In R</td>\n",
       "      <td>https://www.r-bloggers.com/2018/01/our-logo-in...</td>\n",
       "      <td>January 31, 2018</td>\n",
       "      <td>R on The Jumping Rivers Blog</td>\n",
       "      <td>Hi all, so given our logo here at Jumping Rive...</td>\n",
       "      <td>0 Comments</td>\n",
       "    </tr>\n",
       "  </tbody>\n",
       "</table>\n",
       "</div>"
      ],
      "text/plain": [
       "                                               title  \\\n",
       "0  Easily Converting Strings to Times and Dates i...   \n",
       "1                          The importance of context   \n",
       "2                     PCA in a tidy(verse) framework   \n",
       "3                          The importance of context   \n",
       "4                                      Our Logo In R   \n",
       "\n",
       "                                                link              date  \\\n",
       "0  https://www.r-bloggers.com/2018/01/easily-conv...  January 31, 2018   \n",
       "1  https://www.r-bloggers.com/2018/01/the-importa...  January 31, 2018   \n",
       "2  https://www.r-bloggers.com/2018/01/pca-in-a-ti...  January 31, 2018   \n",
       "3  https://www.r-bloggers.com/2018/01/the-importa...  January 31, 2018   \n",
       "4  https://www.r-bloggers.com/2018/01/our-logo-in...  January 31, 2018   \n",
       "\n",
       "                         author  \\\n",
       "0                 Mathew McLean   \n",
       "1             Dr. Michael Green   \n",
       "2          Rstats on goonR blog   \n",
       "3             Dr. Michael Green   \n",
       "4  R on The Jumping Rivers Blog   \n",
       "\n",
       "                                                text comment_rbloggers  \n",
       "0  Date conversion in R can be a real pain. Howev...        0 Comments  \n",
       "1  When we do modeling it’s of utmost importance ...        0 Comments  \n",
       "2  The other day, a question was posted on RStudi...        0 Comments  \n",
       "3  When we do modeling it’s of utmost importance ...        0 Comments  \n",
       "4  Hi all, so given our logo here at Jumping Rive...        0 Comments  "
      ]
     },
     "execution_count": 354,
     "metadata": {},
     "output_type": "execute_result"
    }
   ],
   "source": [
    "df.head()"
   ]
  }
 ],
 "metadata": {
  "kernelspec": {
   "display_name": "Python 3",
   "language": "python",
   "name": "python3"
  },
  "language_info": {
   "codemirror_mode": {
    "name": "ipython",
    "version": 3
   },
   "file_extension": ".py",
   "mimetype": "text/x-python",
   "name": "python",
   "nbconvert_exporter": "python",
   "pygments_lexer": "ipython3",
   "version": "3.8.8"
  }
 },
 "nbformat": 4,
 "nbformat_minor": 5
}
